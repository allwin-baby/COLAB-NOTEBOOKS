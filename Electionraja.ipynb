{
  "nbformat": 4,
  "nbformat_minor": 0,
  "metadata": {
    "colab": {
      "name": "Election.ipynb",
      "provenance": [],
      "collapsed_sections": []
    },
    "kernelspec": {
      "name": "python3",
      "display_name": "Python 3"
    }
  },
  "cells": [
    {
      "cell_type": "code",
      "metadata": {
        "id": "BT5FXGU8uZ2y",
        "colab_type": "code",
        "colab": {
          "base_uri": "https://localhost:8080/",
          "height": 70
        },
        "outputId": "44ae6adc-e007-4fa3-ddae-54d73d39878a"
      },
      "source": [
        "import os,sys\n",
        "import pandas as pd \n",
        "import numpy as np\n",
        "import matplotlib as plt\n",
        "import seaborn as sns"
      ],
      "execution_count": 1,
      "outputs": [
        {
          "output_type": "stream",
          "text": [
            "/usr/local/lib/python3.6/dist-packages/statsmodels/tools/_testing.py:19: FutureWarning: pandas.util.testing is deprecated. Use the functions in the public API at pandas.testing instead.\n",
            "  import pandas.util.testing as tm\n"
          ],
          "name": "stderr"
        }
      ]
    },
    {
      "cell_type": "code",
      "metadata": {
        "id": "IMLKEYkgxv17",
        "colab_type": "code",
        "colab": {
          "base_uri": "https://localhost:8080/",
          "height": 34
        },
        "outputId": "3852a89f-2519-4b98-e39d-38c9fea3b16c"
      },
      "source": [
        "from google.colab import drive\n",
        "drive.mount('/content/drive')"
      ],
      "execution_count": 2,
      "outputs": [
        {
          "output_type": "stream",
          "text": [
            "Mounted at /content/drive\n"
          ],
          "name": "stdout"
        }
      ]
    },
    {
      "cell_type": "code",
      "metadata": {
        "id": "oRghPPg4yBdq",
        "colab_type": "code",
        "colab": {}
      },
      "source": [
        "os.chdir('/content/drive/My Drive')"
      ],
      "execution_count": 6,
      "outputs": []
    },
    {
      "cell_type": "code",
      "metadata": {
        "id": "y-df3WztyGJM",
        "colab_type": "code",
        "colab": {}
      },
      "source": [
        "sys.path.append('/content/drive/My Drive')\n",
        "dataset=  pd.read_csv('election.csv')"
      ],
      "execution_count": 7,
      "outputs": []
    },
    {
      "cell_type": "code",
      "metadata": {
        "id": "LjzUEdRYySW7",
        "colab_type": "code",
        "colab": {
          "base_uri": "https://localhost:8080/",
          "height": 639
        },
        "outputId": "0dcec9bb-d4ca-4143-e707-ea078a08a040"
      },
      "source": [
        "dataset"
      ],
      "execution_count": 8,
      "outputs": [
        {
          "output_type": "execute_result",
          "data": {
            "text/html": [
              "<div>\n",
              "<style scoped>\n",
              "    .dataframe tbody tr th:only-of-type {\n",
              "        vertical-align: middle;\n",
              "    }\n",
              "\n",
              "    .dataframe tbody tr th {\n",
              "        vertical-align: top;\n",
              "    }\n",
              "\n",
              "    .dataframe thead th {\n",
              "        text-align: right;\n",
              "    }\n",
              "</style>\n",
              "<table border=\"1\" class=\"dataframe\">\n",
              "  <thead>\n",
              "    <tr style=\"text-align: right;\">\n",
              "      <th></th>\n",
              "      <th>Constituency</th>\n",
              "      <th>Winning_Margin</th>\n",
              "      <th>Air_India_Top_20_flights</th>\n",
              "      <th>Maximum_Delay_in_Minutes</th>\n",
              "    </tr>\n",
              "  </thead>\n",
              "  <tbody>\n",
              "    <tr>\n",
              "      <th>0</th>\n",
              "      <td>Alappuzha</td>\n",
              "      <td>19407</td>\n",
              "      <td>Bangalore-Mumbai</td>\n",
              "      <td>182</td>\n",
              "    </tr>\n",
              "    <tr>\n",
              "      <th>1</th>\n",
              "      <td>Alathur</td>\n",
              "      <td>37312</td>\n",
              "      <td>Ahmedabad-Mumbai</td>\n",
              "      <td>203</td>\n",
              "    </tr>\n",
              "    <tr>\n",
              "      <th>2</th>\n",
              "      <td>Attingal</td>\n",
              "      <td>69378</td>\n",
              "      <td>Hyderabad-Mumbai</td>\n",
              "      <td>240</td>\n",
              "    </tr>\n",
              "    <tr>\n",
              "      <th>3</th>\n",
              "      <td>Chalakudy</td>\n",
              "      <td>13884</td>\n",
              "      <td>Mumbai-Goa</td>\n",
              "      <td>164</td>\n",
              "    </tr>\n",
              "    <tr>\n",
              "      <th>4</th>\n",
              "      <td>Ernakulum</td>\n",
              "      <td>87047</td>\n",
              "      <td>Delhi-Kolkata</td>\n",
              "      <td>265</td>\n",
              "    </tr>\n",
              "    <tr>\n",
              "      <th>5</th>\n",
              "      <td>Idukki</td>\n",
              "      <td>50542</td>\n",
              "      <td>Chennai-Delhi</td>\n",
              "      <td>226</td>\n",
              "    </tr>\n",
              "    <tr>\n",
              "      <th>6</th>\n",
              "      <td>Kannur</td>\n",
              "      <td>6566</td>\n",
              "      <td>Delhi-Bangalore</td>\n",
              "      <td>156</td>\n",
              "    </tr>\n",
              "    <tr>\n",
              "      <th>7</th>\n",
              "      <td>Kasaragod</td>\n",
              "      <td>6921</td>\n",
              "      <td>Mumbai-Chennai</td>\n",
              "      <td>161</td>\n",
              "    </tr>\n",
              "    <tr>\n",
              "      <th>8</th>\n",
              "      <td>Kollam</td>\n",
              "      <td>37649</td>\n",
              "      <td>Kolkata-Delhi</td>\n",
              "      <td>219</td>\n",
              "    </tr>\n",
              "    <tr>\n",
              "      <th>9</th>\n",
              "      <td>Kottayam</td>\n",
              "      <td>120599</td>\n",
              "      <td>Mumbai–Delhi</td>\n",
              "      <td>328</td>\n",
              "    </tr>\n",
              "    <tr>\n",
              "      <th>10</th>\n",
              "      <td>Kozhikode</td>\n",
              "      <td>16883</td>\n",
              "      <td>Hyderabad-Delhi</td>\n",
              "      <td>181</td>\n",
              "    </tr>\n",
              "    <tr>\n",
              "      <th>11</th>\n",
              "      <td>Malappuram</td>\n",
              "      <td>194740</td>\n",
              "      <td>Delhi–Mumbai</td>\n",
              "      <td>340</td>\n",
              "    </tr>\n",
              "    <tr>\n",
              "      <th>12</th>\n",
              "      <td>Mavelikkara</td>\n",
              "      <td>32737</td>\n",
              "      <td>Mumbai-Ahmedabad</td>\n",
              "      <td>202</td>\n",
              "    </tr>\n",
              "    <tr>\n",
              "      <th>13</th>\n",
              "      <td>Palakkad</td>\n",
              "      <td>105300</td>\n",
              "      <td>Mumbai-Hyderabad</td>\n",
              "      <td>284</td>\n",
              "    </tr>\n",
              "    <tr>\n",
              "      <th>14</th>\n",
              "      <td>Pathanamthitta</td>\n",
              "      <td>56191</td>\n",
              "      <td>Chennai-Mumbai</td>\n",
              "      <td>234</td>\n",
              "    </tr>\n",
              "    <tr>\n",
              "      <th>15</th>\n",
              "      <td>Ponnani</td>\n",
              "      <td>25410</td>\n",
              "      <td>Bangalore-Delhi</td>\n",
              "      <td>199</td>\n",
              "    </tr>\n",
              "    <tr>\n",
              "      <th>16</th>\n",
              "      <td>Thiruvananthapuram</td>\n",
              "      <td>15470</td>\n",
              "      <td>Goa-Mumbai</td>\n",
              "      <td>178</td>\n",
              "    </tr>\n",
              "    <tr>\n",
              "      <th>17</th>\n",
              "      <td>Thrissur</td>\n",
              "      <td>38228</td>\n",
              "      <td>Delhi-Chennai</td>\n",
              "      <td>225</td>\n",
              "    </tr>\n",
              "    <tr>\n",
              "      <th>18</th>\n",
              "      <td>Vadakara</td>\n",
              "      <td>3306</td>\n",
              "      <td>Delhi-Hyderabad</td>\n",
              "      <td>146</td>\n",
              "    </tr>\n",
              "    <tr>\n",
              "      <th>19</th>\n",
              "      <td>Wayanad</td>\n",
              "      <td>20870</td>\n",
              "      <td>Mumbai-Bangalore</td>\n",
              "      <td>197</td>\n",
              "    </tr>\n",
              "  </tbody>\n",
              "</table>\n",
              "</div>"
            ],
            "text/plain": [
              "          Constituency  ...  Maximum_Delay_in_Minutes\n",
              "0            Alappuzha  ...                       182\n",
              "1              Alathur  ...                       203\n",
              "2             Attingal  ...                       240\n",
              "3            Chalakudy  ...                       164\n",
              "4            Ernakulum  ...                       265\n",
              "5               Idukki  ...                       226\n",
              "6               Kannur  ...                       156\n",
              "7            Kasaragod  ...                       161\n",
              "8               Kollam  ...                       219\n",
              "9             Kottayam  ...                       328\n",
              "10           Kozhikode  ...                       181\n",
              "11          Malappuram  ...                       340\n",
              "12         Mavelikkara  ...                       202\n",
              "13            Palakkad  ...                       284\n",
              "14      Pathanamthitta  ...                       234\n",
              "15             Ponnani  ...                       199\n",
              "16  Thiruvananthapuram  ...                       178\n",
              "17            Thrissur  ...                       225\n",
              "18            Vadakara  ...                       146\n",
              "19             Wayanad  ...                       197\n",
              "\n",
              "[20 rows x 4 columns]"
            ]
          },
          "metadata": {
            "tags": []
          },
          "execution_count": 8
        }
      ]
    },
    {
      "cell_type": "code",
      "metadata": {
        "id": "azFV2NyqziQD",
        "colab_type": "code",
        "colab": {
          "base_uri": "https://localhost:8080/",
          "height": 225
        },
        "outputId": "cab8144a-9d78-4e5e-b854-19a39e648786"
      },
      "source": [
        "sns.pairplot(dataset,x_vars=['Maximum_Delay_in_Minutes'],y_vars = ['Winning_Margin'])"
      ],
      "execution_count": 9,
      "outputs": [
        {
          "output_type": "execute_result",
          "data": {
            "text/plain": [
              "<seaborn.axisgrid.PairGrid at 0x7f996a4a0e80>"
            ]
          },
          "metadata": {
            "tags": []
          },
          "execution_count": 9
        },
        {
          "output_type": "display_data",
          "data": {
            "image/png": "[encoded data removed]",
            "text/plain": [
              "<Figure size 180x180 with 1 Axes>"
            ]
          },
          "metadata": {
            "tags": [],
            "needs_background": "light"
          }
        }
      ]
    },
    {
      "cell_type": "code",
      "metadata": {
        "id": "xUVX9cSlzrPA",
        "colab_type": "code",
        "colab": {
          "base_uri": "https://localhost:8080/",
          "height": 722
        },
        "outputId": "9ba24d0b-f11b-474d-e621-7e043ed7715b"
      },
      "source": [
        "import pandas as pd\n",
        "# Separate the independent variable (x) and dependent variable (y)\n",
        "x = dataset.iloc[:,3:4].values\n",
        "print('independent variable (x)')\n",
        "print(x)\n",
        "y = dataset.iloc[:, 1:2].values\n",
        "print('dependent variable (y)')\n",
        "print(y)\n"
      ],
      "execution_count": 45,
      "outputs": [
        {
          "output_type": "stream",
          "text": [
            "independent variable (x)\n",
            "[[182]\n",
            " [203]\n",
            " [240]\n",
            " [164]\n",
            " [265]\n",
            " [226]\n",
            " [156]\n",
            " [161]\n",
            " [219]\n",
            " [328]\n",
            " [181]\n",
            " [340]\n",
            " [202]\n",
            " [284]\n",
            " [234]\n",
            " [199]\n",
            " [178]\n",
            " [225]\n",
            " [146]\n",
            " [197]]\n",
            "dependent variable (y)\n",
            "[[ 19407]\n",
            " [ 37312]\n",
            " [ 69378]\n",
            " [ 13884]\n",
            " [ 87047]\n",
            " [ 50542]\n",
            " [  6566]\n",
            " [  6921]\n",
            " [ 37649]\n",
            " [120599]\n",
            " [ 16883]\n",
            " [194740]\n",
            " [ 32737]\n",
            " [105300]\n",
            " [ 56191]\n",
            " [ 25410]\n",
            " [ 15470]\n",
            " [ 38228]\n",
            " [  3306]\n",
            " [ 20870]]\n"
          ],
          "name": "stdout"
        }
      ]
    },
    {
      "cell_type": "code",
      "metadata": {
        "id": "W-GmKSuU0HHq",
        "colab_type": "code",
        "colab": {
          "base_uri": "https://localhost:8080/",
          "height": 454
        },
        "outputId": "695365bb-f1b9-4367-f3d4-ed73b0e1fbe3"
      },
      "source": [
        "# Split the data into train and test part\n",
        "xTrain, xTest, yTrain, yTest = train_test_split(x, y, test_size = 0.2, random_state = 0)\n",
        "# xTrain is train data  yTrain is label of train data xTest is the data  data yTest is the  test label data          \n",
        "# Create the model\n",
        "model = LinearRegression()\n",
        "print(xTrain)\n",
        "model.fit(xTrain, yTrain)\n",
        "print('yTest')\n",
        "print(yTest)\n",
        "# Predict using test data\n",
        "yPred = model.predict(xTest)\n",
        "print('yPred')\n",
        "print(yPred)"
      ],
      "execution_count": 46,
      "outputs": [
        {
          "output_type": "stream",
          "text": [
            "[[181]\n",
            " [225]\n",
            " [156]\n",
            " [284]\n",
            " [265]\n",
            " [240]\n",
            " [226]\n",
            " [234]\n",
            " [328]\n",
            " [161]\n",
            " [178]\n",
            " [340]\n",
            " [164]\n",
            " [182]\n",
            " [199]\n",
            " [202]]\n",
            "yTest\n",
            "[[ 3306]\n",
            " [37312]\n",
            " [20870]\n",
            " [37649]]\n",
            "yPred\n",
            "[[-13064.75700184]\n",
            " [ 36483.92435347]\n",
            " [ 31268.27368449]\n",
            " [ 50392.32613742]]\n"
          ],
          "name": "stdout"
        }
      ]
    },
    {
      "cell_type": "code",
      "metadata": {
        "id": "ymY4XLV91rcC",
        "colab_type": "code",
        "colab": {
          "base_uri": "https://localhost:8080/",
          "height": 295
        },
        "outputId": "9916b129-d934-4965-e967-61b5be81e977"
      },
      "source": [
        "#visualizing the Training set results\n",
        "xPred = model.predict(xTrain)\n",
        "import matplotlib.pyplot as mtp  \n",
        "mtp.scatter(xTrain, yTrain, color=\"green\")   \n",
        "mtp.plot(xTrain, xPred, color=\"black\")    \n",
        "mtp.title(\"Salary vs Experience (Training Dataset)\")  \n",
        "mtp.xlabel(\"maximum flight delay(X)\")  \n",
        "mtp.ylabel(\" winning margin(Y)\")  \n",
        "mtp.show() "
      ],
      "execution_count": 50,
      "outputs": [
        {
          "output_type": "display_data",
          "data": {
            "image/png": "[encoded data removed]",
            "text/plain": [
              "<Figure size 432x288 with 1 Axes>"
            ]
          },
          "metadata": {
            "tags": [],
            "needs_background": "light"
          }
        }
      ]
    },
    {
      "cell_type": "code",
      "metadata": {
        "id": "Kusum8p45mDE",
        "colab_type": "code",
        "colab": {
          "base_uri": "https://localhost:8080/",
          "height": 34
        },
        "outputId": "ba2739f5-7dab-4a9b-a7c7-50a356c892d1"
      },
      "source": [
        "from sklearn.metrics import r2_score\n",
        "print(r2_score(yTest, yPred))  #accuarcy"
      ],
      "execution_count": 49,
      "outputs": [
        {
          "output_type": "stream",
          "text": [
            "0.32522162801502663\n"
          ],
          "name": "stdout"
        }
      ]
    },
    {
      "cell_type": "code",
      "metadata": {
        "id": "CC_dk83Z58Mb",
        "colab_type": "code",
        "colab": {}
      },
      "source": [
        ""
      ],
      "execution_count": null,
      "outputs": []
    }
  ]
}